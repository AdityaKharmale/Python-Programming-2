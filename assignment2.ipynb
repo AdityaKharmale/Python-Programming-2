{
  "nbformat": 4,
  "nbformat_minor": 0,
  "metadata": {
    "colab": {
      "provenance": [],
      "authorship_tag": "ABX9TyNb9Doz3rXlmAfnSwpeDgcF",
      "include_colab_link": true
    },
    "kernelspec": {
      "name": "python3",
      "display_name": "Python 3"
    },
    "language_info": {
      "name": "python"
    }
  },
  "cells": [
    {
      "cell_type": "markdown",
      "metadata": {
        "id": "view-in-github",
        "colab_type": "text"
      },
      "source": [
        "<a href=\"https://colab.research.google.com/github/AdityaKharmale/Python-Programming-2/blob/main/assignment2.ipynb\" target=\"_parent\"><img src=\"https://colab.research.google.com/assets/colab-badge.svg\" alt=\"Open In Colab\"/></a>"
      ]
    },
    {
      "cell_type": "markdown",
      "source": [
        "***SECTION-A***"
      ],
      "metadata": {
        "id": "V0jkPRk9oWm2"
      }
    },
    {
      "cell_type": "code",
      "execution_count": 3,
      "metadata": {
        "colab": {
          "base_uri": "https://localhost:8080/"
        },
        "id": "ehkovUtedVtp",
        "outputId": "0e362f3f-0412-465f-987f-866791e52eab"
      },
      "outputs": [
        {
          "output_type": "stream",
          "name": "stdout",
          "text": [
            "3\n",
            "0\n"
          ]
        }
      ],
      "source": [
        "\n",
        "#1)Create a function that takes three integer arguments (a, b, c) and returns the amount of integers which are of equal value.\n",
        "\n",
        "def sum(x, y, z):\n",
        "  if x == y or y == z or z == x:\n",
        "    sum = 3\n",
        "  else:\n",
        "    sum = 0\n",
        "  return sum\n",
        "print(sum(5, 5, 5))\n",
        "print(sum(3, 4, 1))\n",
        "\n"
      ]
    },
    {
      "cell_type": "code",
      "source": [
        "#2)Write a function that converts a dictionary into a list of keys-values tuples.\n",
        "\n",
        "def DtoLoT(dict):\n",
        "    dict = {'om':33, 'ajay':63, 'chetan':25, 'vedant':45}\n",
        "    list = [(k, v) for k, v in dict.items()]\n",
        "\n",
        "    list.sort(key = lambda x: x[0])\n",
        "    return list\n",
        "\n",
        "print(DtoLoT(dict))\n",
        "\n"
      ],
      "metadata": {
        "colab": {
          "base_uri": "https://localhost:8080/"
        },
        "id": "fBxn_vFeoFM6",
        "outputId": "c1cf59c2-dccb-452b-b7cd-62366dc6f7e0"
      },
      "execution_count": 5,
      "outputs": [
        {
          "output_type": "stream",
          "name": "stdout",
          "text": [
            "[('ajay', 63), ('chetan', 25), ('om', 33), ('vedant', 45)]\n"
          ]
        }
      ]
    },
    {
      "cell_type": "code",
      "source": [
        "#3)Write a function that creates a dictionary with each (key, value) pair being the (lower case, upper case) versions of a letter, respectively.\n",
        "\n",
        "def function2(list):\n",
        " list = [\"a\", \"b\", \"c\", \"d\"]\n",
        " b = dict((i, i.upper()) for i in list)\n",
        " return b\n",
        "    \n",
        "print(function2(list))\n",
        "\n"
      ],
      "metadata": {
        "colab": {
          "base_uri": "https://localhost:8080/"
        },
        "id": "u1z1O5KkoPck",
        "outputId": "b66dd184-6f01-471d-d016-020863f37a96"
      },
      "execution_count": 4,
      "outputs": [
        {
          "output_type": "stream",
          "name": "stdout",
          "text": [
            "{'a': 'A', 'b': 'B', 'c': 'C', 'd': 'D'}\n"
          ]
        }
      ]
    },
    {
      "cell_type": "code",
      "source": [
        "#4)Write a function, that replaces all vowels in a string with a specified vowel.\n",
        "\n",
        "def replaceVowels(str, K):\n",
        "    vowels = 'aeiou'\n",
        "    for i in vowels:\n",
        "        str = str.replace(i, K)\n",
        "    return str\n",
        "input_str = \"Python is computer language\"\n",
        "K = \"e\"\n",
        "print(\"Input string =\", input_str)\n",
        "print(\"Specified vowel =\", K)\n",
        "print(\"After replacing =\", replaceVowels(input_str, K))\n",
        "\n"
      ],
      "metadata": {
        "colab": {
          "base_uri": "https://localhost:8080/"
        },
        "id": "ik3PvLggorUU",
        "outputId": "6ba4115e-d95d-4f09-aafd-823a61559e4a"
      },
      "execution_count": 11,
      "outputs": [
        {
          "output_type": "stream",
          "name": "stdout",
          "text": [
            "Input string = Python is computer language\n",
            "Specified vowel = e\n",
            "After replacing = Pythen es cempeter lengeege\n"
          ]
        }
      ]
    },
    {
      "cell_type": "code",
      "source": [
        "#5)Create a function that takes a string as input and capitalizes a letter if its ASCII code is even and returns its lower case version if its ASCII code is odd.\n",
        "\n",
        "def Python(sy):\n",
        "  ab = []\n",
        "  for index, c in enumerate(sy):\n",
        "    if index % 2 == 0:\n",
        "      ab.append(c.upper())\n",
        "    else:\n",
        "      ab.append(c.lower())\n",
        "  return '' .join(ab)\n",
        "print(Python(\"Python is computer language:\"))\n",
        "\n"
      ],
      "metadata": {
        "colab": {
          "base_uri": "https://localhost:8080/"
        },
        "id": "x1-nlSo4o0Ey",
        "outputId": "f61c1ecc-9c50-46c8-d825-309ebad7d04c"
      },
      "execution_count": 7,
      "outputs": [
        {
          "output_type": "stream",
          "name": "stdout",
          "text": [
            "PyThOn iS CoMpUtEr lAnGuAgE:\n"
          ]
        }
      ]
    },
    {
      "cell_type": "markdown",
      "source": [
        "***SECTION B***"
      ],
      "metadata": {
        "id": "qwAzAb_spBPi"
      }
    },
    {
      "cell_type": "code",
      "source": [
        "#Try any five programs of your choice from week 1 and solve it in a functions.\n",
        "\n",
        "def fact(n):\n",
        "  fact=1\n",
        "  for i in range(1,n+1):\n",
        "    fact=fact*i\n",
        "  print(fact)  \n",
        "fact(5)"
      ],
      "metadata": {
        "colab": {
          "base_uri": "https://localhost:8080/"
        },
        "id": "w25h5cQQpf7a",
        "outputId": "b5bfeabc-2760-433c-aed1-888a34070450"
      },
      "execution_count": 8,
      "outputs": [
        {
          "output_type": "stream",
          "name": "stdout",
          "text": [
            "120\n"
          ]
        }
      ]
    },
    {
      "cell_type": "code",
      "source": [
        "def rotate(a,d):\n",
        "    n=len(a)\n",
        "    a[:]=a[d:n]+a[0:d]\n",
        "    return a\n",
        "a = [3,4,5,6,8,9,1]\n",
        "print(\"Rotated list is\")\n",
        "print(rotate(a,1))"
      ],
      "metadata": {
        "colab": {
          "base_uri": "https://localhost:8080/"
        },
        "id": "iIOI4ODuqBKI",
        "outputId": "1344ce4d-baf0-427b-b210-50f1dfc916ac"
      },
      "execution_count": 9,
      "outputs": [
        {
          "output_type": "stream",
          "name": "stdout",
          "text": [
            "Rotated list is\n",
            "[4, 5, 6, 8, 9, 1, 3]\n"
          ]
        }
      ]
    },
    {
      "cell_type": "code",
      "source": [
        "colors={}\n",
        "def insert(a):\n",
        "  if a in colors:\n",
        "    colors[a]+=1\n",
        "  else:\n",
        "    colors[a]=1  \n",
        "insert('Red')\n",
        "insert('green')\n",
        "insert('Blue')\n",
        "insert('White')\n",
        "insert('Red')\n",
        "print(len(colors))"
      ],
      "metadata": {
        "colab": {
          "base_uri": "https://localhost:8080/"
        },
        "id": "YhM8w2HtqGb6",
        "outputId": "bd09ec99-0274-43d9-f934-9ba5c578ce32"
      },
      "execution_count": 10,
      "outputs": [
        {
          "output_type": "stream",
          "name": "stdout",
          "text": [
            "4\n"
          ]
        }
      ]
    },
    {
      "cell_type": "code",
      "source": [
        "def sumlist(list):\n",
        "    sum=0\n",
        "    for i in range(len(list)):\n",
        "        sum = sum+list[i]\n",
        "    return sum\n",
        "list = [20,40,60]\n",
        "print(list)\n",
        "print(\"sum of list: \",sumlist(list))"
      ],
      "metadata": {
        "colab": {
          "base_uri": "https://localhost:8080/"
        },
        "id": "PGUUQFfqqWbC",
        "outputId": "abd3d105-4a2f-4a32-efb9-5f53a46b7aac"
      },
      "execution_count": 12,
      "outputs": [
        {
          "output_type": "stream",
          "name": "stdout",
          "text": [
            "[20, 40, 60]\n",
            "sum of list:  120\n"
          ]
        }
      ]
    },
    {
      "cell_type": "code",
      "source": [
        "def mul_list(list) :         \n",
        "    product = 1\n",
        "    for i in list:\n",
        "         product = product * i\n",
        "    return product     \n",
        "list1 = [5,6,7,8]\n",
        "print(list1)\n",
        "print(\"product: \") \n",
        "print(mul_list(list1))"
      ],
      "metadata": {
        "colab": {
          "base_uri": "https://localhost:8080/"
        },
        "id": "GkPlroFWqbju",
        "outputId": "b68ac7e0-6e16-4bc1-e2d5-dc8d6426ff07"
      },
      "execution_count": 13,
      "outputs": [
        {
          "output_type": "stream",
          "name": "stdout",
          "text": [
            "[5, 6, 7, 8]\n",
            "product: \n",
            "1680\n"
          ]
        }
      ]
    }
  ]
}