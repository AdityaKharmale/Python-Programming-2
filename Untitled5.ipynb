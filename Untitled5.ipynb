{
  "nbformat": 4,
  "nbformat_minor": 0,
  "metadata": {
    "colab": {
      "provenance": [],
      "authorship_tag": "ABX9TyOPZMc9du2ychFkEBQoXAYa",
      "include_colab_link": true
    },
    "kernelspec": {
      "name": "python3",
      "display_name": "Python 3"
    },
    "language_info": {
      "name": "python"
    }
  },
  "cells": [
    {
      "cell_type": "markdown",
      "metadata": {
        "id": "view-in-github",
        "colab_type": "text"
      },
      "source": [
        "<a href=\"https://colab.research.google.com/github/AdityaKharmale/Python-Programming-2/blob/main/Untitled5.ipynb\" target=\"_parent\"><img src=\"https://colab.research.google.com/assets/colab-badge.svg\" alt=\"Open In Colab\"/></a>"
      ]
    },
    {
      "cell_type": "code",
      "execution_count": 2,
      "metadata": {
        "colab": {
          "base_uri": "https://localhost:8080/"
        },
        "id": "Josp8pN8luOi",
        "outputId": "6deadef4-81bf-420d-b4a6-055cd2bbe21d"
      },
      "outputs": [
        {
          "output_type": "stream",
          "name": "stdout",
          "text": [
            "172 50\n"
          ]
        }
      ],
      "source": [
        "#1. Write a Python program to create a Vehicle class with max_speed and mileage instance attributes.\n",
        "class Vehicle:\n",
        "    def __init__(self, max_speed, mileage):\n",
        "        self.max_speed = max_speed\n",
        "        self.mileage = mileage\n",
        "\n",
        "modelX = Vehicle(172, 50)\n",
        "print(modelX.max_speed, modelX.mileage)\n",
        "\n",
        "\n"
      ]
    },
    {
      "cell_type": "code",
      "source": [
        "#2.Create a Vehicle class without any variables and methods.\n",
        "\n",
        "class Vehicle:\n",
        "    pass"
      ],
      "metadata": {
        "id": "YUZIlJT2mCys"
      },
      "execution_count": 3,
      "outputs": []
    },
    {
      "cell_type": "code",
      "source": [
        "#3.Create a child class Bus that will inherit all of the variables and methods of the Vehicle class\n",
        "\n",
        "class Vehicle:\n",
        "\n",
        "    def __init__(self, NAME,MAX_SPEED,MILEAGE):                \n",
        "        self.name = NAME\n",
        "        self.max_speed = MAX_SPEED\n",
        "        self.MILEAGE =MILEAGE"
      ],
      "metadata": {
        "id": "B_4TWlV4l5qa"
      },
      "execution_count": 5,
      "outputs": []
    },
    {
      "cell_type": "code",
      "source": [
        "# Create a Bus class that inherits from the Vehicle class. Give the capacity argument of Bus.seating_capacity() a default value of 50.\n",
        "\n",
        "class Vehicle:\n",
        "    def __init__(self, name, max_speed, mileage):\n",
        "        self.name = name\n",
        "        self.max_speed = max_speed\n",
        "        self.mileage = mileage\n",
        "\n",
        "    def seating_capacity(self, capacity):\n",
        "        return f\"The seating capacity of a {self.name} is {capacity} passengers\"\n",
        "\n"
      ],
      "metadata": {
        "id": "zZ8TZeMvlzCi"
      },
      "execution_count": 6,
      "outputs": []
    },
    {
      "cell_type": "code",
      "source": [
        "#Create a Bus child class that inherits from the Vehicle class. The default fare charge of any vehicle is seating capacity * 100. If Vehicle is Bus instance, we need to add an extra 10% on full fare as a maintenance charge. So total fare for bus instance will become the final amount = total fare + 10% of the total fare.\n",
        "\n",
        "class Vehicle:\n",
        "    def __init__(self, name, mileage, capacity):\n",
        "        self.name = name\n",
        "        self.mileage = mileage\n",
        "        self.capacity = capacity\n",
        "\n",
        "    def fare(self):\n",
        "        return self.capacity * 100\n",
        "\n",
        "class Bus(Vehicle):\n",
        "    pass\n",
        "\n",
        "School_bus = Bus(\"School Volvo\", 12, 50)\n",
        "print(\"Total Bus fare is:\", School_bus.fare())"
      ],
      "metadata": {
        "colab": {
          "base_uri": "https://localhost:8080/"
        },
        "id": "UjO40RiOlwBL",
        "outputId": "ebfbabd9-46c3-4aba-d64a-a7e9b5b42ae9"
      },
      "execution_count": 7,
      "outputs": [
        {
          "output_type": "stream",
          "name": "stdout",
          "text": [
            "Total Bus fare is: 5000\n"
          ]
        }
      ]
    }
  ]
}